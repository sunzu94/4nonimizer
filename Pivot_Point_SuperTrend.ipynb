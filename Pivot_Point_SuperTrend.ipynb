{
  "nbformat": 4,
  "nbformat_minor": 0,
  "metadata": {
    "colab": {
      "name": "Pivot Point SuperTrend.ipynb",
      "provenance": [],
      "authorship_tag": "ABX9TyMVlek3k/8lBORTnX+K96Dv",
      "include_colab_link": true
    },
    "kernelspec": {
      "name": "python3",
      "display_name": "Python 3"
    },
    "language_info": {
      "name": "python"
    }
  },
  "cells": [
    {
      "cell_type": "markdown",
      "metadata": {
        "id": "view-in-github",
        "colab_type": "text"
      },
      "source": [
        "<a href=\"https://colab.research.google.com/github/sunzu94/4nonimizer/blob/master/Pivot_Point_SuperTrend.ipynb\" target=\"_parent\"><img src=\"https://colab.research.google.com/assets/colab-badge.svg\" alt=\"Open In Colab\"/></a>"
      ]
    },
    {
      "cell_type": "code",
      "execution_count": null,
      "metadata": {
        "id": "pCq2nkhLjwuN"
      },
      "outputs": [],
      "source": [
        "// This source code is subject to the terms of the Mozilla Public License 2.0 at https://mozilla.org/MPL/2.0/\n",
        "// © LonesomeTheBlue\n",
        "\n",
        "//@version=4\n",
        "study(\"Pivot Point SuperTrend\", overlay = true)\n",
        "prd = input(defval = 2, title=\"Pivot Point Period\", minval = 1, maxval = 50)\n",
        "Factor=input(defval = 3, title = \"ATR Factor\", minval = 1, step = 0.1)\n",
        "Pd=input(defval = 10, title = \"ATR Period\", minval=1)\n",
        "showpivot = input(defval = false, title=\"Show Pivot Points\")\n",
        "showlabel = input(defval = true, title=\"Show Buy/Sell Labels\")\n",
        "showcl = input(defval = false, title=\"Show PP Center Line\")\n",
        "showsr = input(defval = false, title=\"Show Support/Resistance\")\n",
        "\n",
        "// get Pivot High/Low\n",
        "float ph = pivothigh(prd, prd)\n",
        "float pl = pivotlow(prd, prd)\n",
        "\n",
        "// drawl Pivot Points if \"showpivot\" is enabled\n",
        "plotshape(ph and showpivot, text=\"H\",  style=shape.labeldown, color=na, textcolor=color.red, location=location.abovebar, transp=0, offset = -prd)\n",
        "plotshape(pl and showpivot, text=\"L\",  style=shape.labeldown, color=na, textcolor=color.lime, location=location.belowbar, transp=0, offset = -prd)\n",
        "\n",
        "// calculate the Center line using pivot points\n",
        "var float center = na\n",
        "float lastpp = ph ? ph : pl ? pl : na\n",
        "if lastpp\n",
        "    if na(center)\n",
        "        center := lastpp\n",
        "    else\n",
        "        //weighted calculation\n",
        "        center := (center * 2 + lastpp) / 3\n",
        "\n",
        "// upper/lower bands calculation\n",
        "Up = center - (Factor * atr(Pd))\n",
        "Dn = center + (Factor * atr(Pd))\n",
        "\n",
        "// get the trend\n",
        "float TUp = na\n",
        "float TDown = na\n",
        "Trend = 0\n",
        "TUp := close[1] > TUp[1] ? max(Up, TUp[1]) : Up\n",
        "TDown := close[1] < TDown[1] ? min(Dn, TDown[1]) : Dn\n",
        "Trend := close > TDown[1] ? 1: close < TUp[1]? -1: nz(Trend[1], 1)\n",
        "Trailingsl = Trend == 1 ? TUp : TDown\n",
        "\n",
        "// plot the trend\n",
        "linecolor = Trend == 1 and nz(Trend[1]) == 1 ? color.lime : Trend == -1 and nz(Trend[1]) == -1 ? color.red : na\n",
        "plot(Trailingsl, color = linecolor ,  linewidth = 2, title = \"PP SuperTrend\")\n",
        " \n",
        "plot(showcl ? center : na, color = showcl ? center < hl2 ? color.blue : color.red : na)\n",
        "\n",
        "// check and plot the signals\n",
        "bsignal = Trend == 1 and Trend[1] == -1\n",
        "ssignal = Trend == -1 and Trend[1] == 1\n",
        "plotshape(bsignal and showlabel ? Trailingsl : na, title=\"Buy\", text=\"Buy\", location = location.absolute, style = shape.labelup, size = size.tiny, color = color.lime, textcolor = color.black, transp = 0)\n",
        "plotshape(ssignal and showlabel ? Trailingsl : na, title=\"Sell\", text=\"Sell\", location = location.absolute, style = shape.labeldown, size = size.tiny, color = color.red, textcolor = color.white, transp = 0)\n",
        "\n",
        "//get S/R levels using Pivot Points\n",
        "float resistance = na\n",
        "float support = na\n",
        "support := pl ? pl : support[1]\n",
        "resistance := ph ? ph : resistance[1]\n",
        "\n",
        "// if enabled then show S/R levels\n",
        "plot(showsr and support ? support : na, color = showsr and support ? color.lime : na, style = plot.style_circles, offset = -prd)\n",
        "plot(showsr and resistance ? resistance : na, color = showsr and resistance ? color.red : na, style = plot.style_circles, offset = -prd)\n",
        "\n",
        "// alerts\n",
        "alertcondition(Trend == 1 and Trend[1] == -1, title='Buy Signal', message='Buy Signal')\n",
        "alertcondition(Trend == -1 and Trend[1] == 1, title='Sell Signal', message='Sell Signal')\n",
        "alertcondition(change(Trend), title='Trend Changed', message='Trend Changed')\n"
      ]
    }
  ]
}